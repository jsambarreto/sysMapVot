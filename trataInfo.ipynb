{
 "cells": [
  {
   "cell_type": "code",
   "execution_count": 60,
   "source": [
    "import firebase_admin\r\n",
    "from firebase_admin import credentials\r\n",
    "from firebase_admin import firestore\r\n",
    "\r\n",
    "from io import BytesIO\r\n",
    "from PIL import Image\r\n",
    "from random import randint\r\n",
    "\r\n",
    "#FB = json.loads(os.environ.get('FIREBASE_CREDENTIALS', None))\r\n",
    "#cred = credentials.Certificate(FB)\r\n",
    "cred = credentials.Certificate('registra-urna-firebase-adminsdk-le28m-70d82a58ae.json')\r\n",
    "firebase_admin.initialize_app(cred)\r\n",
    "\r\n",
    "db = firestore.client()\r\n"
   ],
   "outputs": [
    {
     "output_type": "error",
     "ename": "ValueError",
     "evalue": "The default Firebase app already exists. This means you called initialize_app() more than once without providing an app name as the second argument. In most cases you only need to call initialize_app() once. But if you do want to initialize multiple apps, pass a second argument to initialize_app() to give each app a unique name.",
     "traceback": [
      "\u001b[1;31m---------------------------------------------------------------------------\u001b[0m",
      "\u001b[1;31mValueError\u001b[0m                                Traceback (most recent call last)",
      "\u001b[1;32m<ipython-input-60-c33a71972395>\u001b[0m in \u001b[0;36m<module>\u001b[1;34m\u001b[0m\n\u001b[0;32m     10\u001b[0m \u001b[1;31m#cred = credentials.Certificate(FB)\u001b[0m\u001b[1;33m\u001b[0m\u001b[1;33m\u001b[0m\u001b[1;33m\u001b[0m\u001b[0m\n\u001b[0;32m     11\u001b[0m \u001b[0mcred\u001b[0m \u001b[1;33m=\u001b[0m \u001b[0mcredentials\u001b[0m\u001b[1;33m.\u001b[0m\u001b[0mCertificate\u001b[0m\u001b[1;33m(\u001b[0m\u001b[1;34m'registra-urna-firebase-adminsdk-le28m-70d82a58ae.json'\u001b[0m\u001b[1;33m)\u001b[0m\u001b[1;33m\u001b[0m\u001b[1;33m\u001b[0m\u001b[0m\n\u001b[1;32m---> 12\u001b[1;33m \u001b[0mfirebase_admin\u001b[0m\u001b[1;33m.\u001b[0m\u001b[0minitialize_app\u001b[0m\u001b[1;33m(\u001b[0m\u001b[0mcred\u001b[0m\u001b[1;33m)\u001b[0m\u001b[1;33m\u001b[0m\u001b[1;33m\u001b[0m\u001b[0m\n\u001b[0m\u001b[0;32m     13\u001b[0m \u001b[1;33m\u001b[0m\u001b[0m\n\u001b[0;32m     14\u001b[0m \u001b[0mdb\u001b[0m \u001b[1;33m=\u001b[0m \u001b[0mfirestore\u001b[0m\u001b[1;33m.\u001b[0m\u001b[0mclient\u001b[0m\u001b[1;33m(\u001b[0m\u001b[1;33m)\u001b[0m\u001b[1;33m\u001b[0m\u001b[1;33m\u001b[0m\u001b[0m\n",
      "\u001b[1;32m~\\AppData\\Roaming\\Python\\Python39\\site-packages\\firebase_admin\\__init__.py\u001b[0m in \u001b[0;36minitialize_app\u001b[1;34m(credential, options, name)\u001b[0m\n\u001b[0;32m     69\u001b[0m \u001b[1;33m\u001b[0m\u001b[0m\n\u001b[0;32m     70\u001b[0m     \u001b[1;32mif\u001b[0m \u001b[0mname\u001b[0m \u001b[1;33m==\u001b[0m \u001b[0m_DEFAULT_APP_NAME\u001b[0m\u001b[1;33m:\u001b[0m\u001b[1;33m\u001b[0m\u001b[1;33m\u001b[0m\u001b[0m\n\u001b[1;32m---> 71\u001b[1;33m         raise ValueError((\n\u001b[0m\u001b[0;32m     72\u001b[0m             \u001b[1;34m'The default Firebase app already exists. This means you called '\u001b[0m\u001b[1;33m\u001b[0m\u001b[1;33m\u001b[0m\u001b[0m\n\u001b[0;32m     73\u001b[0m             \u001b[1;34m'initialize_app() more than once without providing an app name as '\u001b[0m\u001b[1;33m\u001b[0m\u001b[1;33m\u001b[0m\u001b[0m\n",
      "\u001b[1;31mValueError\u001b[0m: The default Firebase app already exists. This means you called initialize_app() more than once without providing an app name as the second argument. In most cases you only need to call initialize_app() once. But if you do want to initialize multiple apps, pass a second argument to initialize_app() to give each app a unique name."
     ]
    }
   ],
   "metadata": {}
  },
  {
   "cell_type": "code",
   "execution_count": 92,
   "source": [
    "docs = db.collection(u'urnas_bahia').stream()\r\n",
    "\r\n",
    "doc_list = []\r\n",
    "for doc in docs:\r\n",
    "    doc_list.append(f'{doc.id}')\r\n",
    "    #f'{doc.id} = {doc.to_dict()}'\r\n",
    "print(doc_list)\r\n",
    "\r\n",
    "candidatos  = ['13','17','10','51','15']\r\n",
    "for campo in candidatos:\r\n",
    "    votos = 0\r\n",
    "    for doc_ in doc_list:\r\n",
    "        doc_ref = db.collection(u'urnas_bahia').document(doc_)\r\n",
    "        doc = doc_ref.get()\r\n",
    "        doc_aux = doc.to_dict()\r\n",
    "        #campo = '13'\r\n",
    "        if doc_aux.get(campo):\r\n",
    "            votos += int(doc_aux.get(campo))\r\n",
    "    print('Vereador %s obteve %d votos: '%(campo,votos))"
   ],
   "outputs": [
    {
     "output_type": "stream",
     "name": "stdout",
     "text": [
      "['1160', '11890', '14558', '17458', '18328', '19894', '20242', '20706', '28478', '33002', '33408', '34858', '38802', '39324', '4002', '46226', '46458', '46516', '4756', '5046', '522', '8004']\n",
      "Vereador 13 obteve 1060 votos: \n",
      "Vereador 17 obteve 132 votos: \n",
      "Vereador 10 obteve 168 votos: \n",
      "Vereador 51 obteve 0 votos: \n",
      "Vereador 15 obteve 796 votos: \n"
     ]
    }
   ],
   "metadata": {}
  }
 ],
 "metadata": {
  "orig_nbformat": 4,
  "language_info": {
   "name": "python",
   "version": "3.9.2",
   "mimetype": "text/x-python",
   "codemirror_mode": {
    "name": "ipython",
    "version": 3
   },
   "pygments_lexer": "ipython3",
   "nbconvert_exporter": "python",
   "file_extension": ".py"
  },
  "kernelspec": {
   "name": "python3",
   "display_name": "Python 3.9.2 64-bit"
  },
  "interpreter": {
   "hash": "40e02020a9b47bcab546fe2057299798990455f8bfb8d9f8404dce105c8598ac"
  }
 },
 "nbformat": 4,
 "nbformat_minor": 2
}